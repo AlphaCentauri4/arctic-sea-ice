{
 "cells": [
  {
   "cell_type": "code",
   "execution_count": 1,
   "id": "7b0560b5-b463-4aaa-9124-838015cfd538",
   "metadata": {},
   "outputs": [],
   "source": [
    "import numpy as np\n",
    "import pandas as pd\n",
    "\n",
    "import matplotlib.pyplot as plt\n",
    "import matplotlib.colors as mcolors\n",
    "from PIL import Image\n",
    "from mpl_toolkits.axes_grid1 import ImageGrid\n",
    "\n",
    "import os, colour, cv2, math, itertools"
   ]
  },
  {
   "cell_type": "code",
   "execution_count": null,
   "id": "b3ce3153-4dc2-4dd3-a774-3784c865e6db",
   "metadata": {},
   "outputs": [],
   "source": [
    "def build_directory(directory):\n",
    "    root = directory[0:2] + \"//\"\n",
    "    directory = directory.replace(root, \"\", 1)\n",
    "    directory_array = directory.split(\"/\")[1:]\n",
    "    for i in range(1, len(directory_array) + 1):\n",
    "        try:\n",
    "            os.mkdir(root + \"/\".join(directory_array[0:i]))\n",
    "        except FileExistsError:\n",
    "            pass\n",
    "    \n",
    "def file_index(files_dir, file):\n",
    "    try:\n",
    "        files = os.listdir(files_dir)\n",
    "        index = files.index(file)\n",
    "        return index\n",
    "    except:\n",
    "        return -1\n",
    "\n",
    "def norm_array(arr, arr_min, arr_max):\n",
    "    return (arr - arr_min)/(arr_max - arr_min)\n",
    "\n",
    "def std_array(arr, arr_avg, arr_std):\n",
    "    return (arr - arr_avg) / arr_std\n",
    "\n",
    "def load_image(file_dir) :\n",
    "    img = Image.open(file_dir)\n",
    "    img.load()\n",
    "    data = np.asarray(img, dtype=np.uint8)\n",
    "    return data"
   ]
  },
  {
   "cell_type": "code",
   "execution_count": null,
   "id": "a7886541-4e29-46fe-b1e3-e92681006e95",
   "metadata": {},
   "outputs": [],
   "source": [
    "class Gradient:\n",
    "    def __init__(self, cmap):\n",
    "        self.cmap = plt.get_cmap(cmap)\n",
    "    \n",
    "    def perc_to_rgb(self, perc, nan=(255, 255, 255)):\n",
    "        if np.isnan(perc):\n",
    "            return nan\n",
    "        else:\n",
    "            color = self.cmap(int(perc*255))\n",
    "            return (np.array(color[:-1])*255).round()"
   ]
  },
  {
   "cell_type": "code",
   "execution_count": 6,
   "id": "c4e8eabf-dc0d-4d23-813d-625957c79194",
   "metadata": {},
   "outputs": [],
   "source": [
    "base_dir = \"C:/Users/Louis Lapp/Documents/Research/Arctic Sea Ice/topographical-sea-ice-forecasting\"\n",
    "image_dir = f\"{base_dir}/images_std/\"\n",
    "collage_dir = f\"{base_dir}/collages/\"\n",
    "video_dir = f\"{base_dir}/videos/\""
   ]
  },
  {
   "cell_type": "code",
   "execution_count": 3,
   "id": "c7df3f9d-53d3-44c8-a33a-2c6b6a786752",
   "metadata": {},
   "outputs": [],
   "source": [
    "data = np.load(\"data/whole_data.npy\")"
   ]
  },
  {
   "cell_type": "code",
   "execution_count": 4,
   "id": "5be1d3ff-af99-49c9-898c-eeb20478456a",
   "metadata": {},
   "outputs": [],
   "source": [
    "var_names = [\"surface_pressure\", \"wind_velocity\", \"specific_humidity\", \"air_temperature\", \"shortwave_radiation\", \"longwave_radiation\", \"rain_rate\", \"snowfall_rate\", \"sea_surface_temperature\", \"sea_ice_concentration\"]\n",
    "var_gradients = [\"seismic\", \"Greys\", \"Oranges\", \"coolwarm\", \"Purples\", \"Reds\", \"YlGn\", \"BuPu\", \"YlOrRd\", \"Blues\"]\n",
    "date_range = np.arange(np.datetime64(\"1979-01\"), np.datetime64(\"2021-07\"))\n",
    "\n",
    "var_arrays = []\n",
    "for i in range(len(var_names)):\n",
    "    var_arrays.append(data[:, :, :, i])\n",
    "    \n",
    "var_arrays = np.array(var_arrays)"
   ]
  },
  {
   "cell_type": "code",
   "execution_count": 115,
   "id": "f85ec444-cee3-4af5-b430-4b85d10e6cb5",
   "metadata": {},
   "outputs": [
    {
     "name": "stdout",
     "output_type": "stream",
     "text": [
      "Processing: sea_ice_concentration (2021-06)            \r"
     ]
    }
   ],
   "source": [
    "norm_mode = \"std\"\n",
    "for var_name, var_gradient, array in zip(var_names, var_gradients, var_arrays):\n",
    "    if (norm_mode==\"norm\"):\n",
    "        arr_min, arr_max = np.nanmin(array), np.nanmax(array)\n",
    "    elif (norm_mode==\"std\"):\n",
    "        arr_avg, arr_std = np.nanmean(array), np.nanstd(array)\n",
    "    gradient = Gradient(var_gradient)\n",
    "    save_dir = f\"{image_dir}{var_name}/\"\n",
    "    build_directory(save_dir)\n",
    "        \n",
    "    for date, month_array in zip(date_range, array):\n",
    "        print(f\"Processing: {var_name} ({date})          \", end=\"\\r\")\n",
    "        try:\n",
    "            if (file_index(save_dir, f\"{date}.png\") != -1):\n",
    "                raise FileExistsError\n",
    "            shape = month_array.shape + (3, )\n",
    "            \n",
    "            if (norm_mode==\"norm\"):\n",
    "                month_array = norm_array(month_array.flatten(), arr_min, arr_max)\n",
    "            elif (norm_mode==\"std\"):\n",
    "                month_array = norm_array(std_array(month_array.flatten(), arr_avg, arr_std).clip(-3, 3), -3, 3)\n",
    "                \n",
    "            rgb_month_array = []\n",
    "            for pixel in month_array:\n",
    "                rgb_month_array.append(gradient.perc_to_rgb(pixel))\n",
    "            rgb_month_array = np.array(rgb_month_array, dtype=np.uint8).reshape(shape)\n",
    "\n",
    "            Image.fromarray(rgb_month_array, \"RGB\").save(f\"{save_dir}{date}.png\")\n",
    "        except FileExistsError:\n",
    "            pass"
   ]
  },
  {
   "cell_type": "code",
   "execution_count": null,
   "id": "13783ad4-0488-4b50-a5e7-46bcaa44f06c",
   "metadata": {},
   "outputs": [],
   "source": [
    "build_directory(collage_dir)\n",
    "\n",
    "for date in np.array(date_range, dtype=str):\n",
    "    print(\"Processing:\", date, end=\"\\r\")\n",
    "    image_paths = [f\"{image_dir}{var}/{date}.png\" for var in var_names]\n",
    "    images = [load_image(image_path) for image_path in image_paths]\n",
    "    \n",
    "    plt.style.use('dark_background')\n",
    "    plt.rcParams[\"axes.titley\"] = 0\n",
    "    \n",
    "    fig = plt.figure(figsize=(16, 12))    \n",
    "    grid = ImageGrid(fig, 111,\n",
    "                 nrows_ncols=(2, 5),\n",
    "                 axes_pad=0\n",
    "                 )\n",
    "    for ax, im, name in zip(grid, images, var_names):\n",
    "        ax.imshow(im)\n",
    "        ax.set_xticks([])\n",
    "        ax.set_yticks([])\n",
    "        ax.title.set_text(name)\n",
    "        \n",
    "    fig.suptitle(date, x=0.1455, y=0.82)\n",
    "    fig.savefig(f\"{collage_dir}{date}.png\", bbox_inches=\"tight\", dpi=100)\n",
    "    plt.close()"
   ]
  },
  {
   "cell_type": "code",
   "execution_count": 7,
   "id": "64aba2fd-ddde-448a-8478-0c607164d351",
   "metadata": {},
   "outputs": [
    {
     "name": "stdout",
     "output_type": "stream",
     "text": [
      "Processing: 509\r"
     ]
    }
   ],
   "source": [
    "video_name = \"data_video.mp4\"\n",
    "images = [img for img in os.listdir(collage_dir) if img.endswith(\".png\")]\n",
    "frame = cv2.imread(os.path.join(collage_dir, images[0]))\n",
    "height, width, layers = frame.shape\n",
    "video = cv2.VideoWriter(video_name, 0, 2, (width,height), 0)\n",
    "for i, image in enumerate(images):\n",
    "    print(\"Processing:\", i, end=\"\\r\")\n",
    "    video.write(cv2.imread(os.path.join(collage_dir, image)))\n",
    "cv2.destroyAllWindows()\n",
    "video.release()"
   ]
  }
 ],
 "metadata": {
  "kernelspec": {
   "display_name": "Python 3 (ipykernel)",
   "language": "python",
   "name": "python3"
  },
  "language_info": {
   "codemirror_mode": {
    "name": "ipython",
    "version": 3
   },
   "file_extension": ".py",
   "mimetype": "text/x-python",
   "name": "python",
   "nbconvert_exporter": "python",
   "pygments_lexer": "ipython3",
   "version": "3.9.6"
  }
 },
 "nbformat": 4,
 "nbformat_minor": 5
}
